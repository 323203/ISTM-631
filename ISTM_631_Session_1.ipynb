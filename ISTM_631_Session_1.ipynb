{
  "nbformat": 4,
  "nbformat_minor": 0,
  "metadata": {
    "colab": {
      "name": "ISTM 631 - Session 1.ipynb",
      "provenance": [],
      "collapsed_sections": [],
      "authorship_tag": "ABX9TyMUxq0f3cvMI8R8URb7p1Yw",
      "include_colab_link": true
    },
    "kernelspec": {
      "name": "python3",
      "display_name": "Python 3"
    }
  },
  "cells": [
    {
      "cell_type": "markdown",
      "metadata": {
        "id": "view-in-github",
        "colab_type": "text"
      },
      "source": [
        "<a href=\"https://colab.research.google.com/github/323203/ISTM-631/blob/main/ISTM_631_Session_1.ipynb\" target=\"_parent\"><img src=\"https://colab.research.google.com/assets/colab-badge.svg\" alt=\"Open In Colab\"/></a>"
      ]
    },
    {
      "cell_type": "markdown",
      "metadata": {
        "id": "jsRspnSlvfh3"
      },
      "source": [
        "1- sign up for GitHub\r\n",
        "\r\n",
        "2- Write a paragraph about anaytics\r\n"
      ]
    },
    {
      "cell_type": "markdown",
      "metadata": {
        "id": "V3BZBAuZenYf"
      },
      "source": [
        "# Single and multi line comments"
      ]
    },
    {
      "cell_type": "code",
      "metadata": {
        "colab": {
          "base_uri": "https://localhost:8080/"
        },
        "id": "DXHLjdP1v5fr",
        "outputId": "46a069c5-436b-41ae-9809-f0fb7a42de68"
      },
      "source": [
        "# Try your first Python output\r\n",
        "\"\"\"\r\n",
        "multi \r\n",
        "line \r\n",
        "comment\r\n",
        "\"\"\"\r\n",
        "\r\n"
      ],
      "execution_count": null,
      "outputs": [
        {
          "output_type": "stream",
          "text": [
            "Hello, Python!\n"
          ],
          "name": "stdout"
        }
      ]
    },
    {
      "cell_type": "markdown",
      "metadata": {
        "id": "2T0Dwy5iewWv"
      },
      "source": [
        "### Hello world Example: "
      ]
    },
    {
      "cell_type": "code",
      "metadata": {
        "colab": {
          "base_uri": "https://localhost:8080/"
        },
        "id": "-QzRPeoOe8BG",
        "outputId": "4e3d2d89-1509-4e04-c8d9-1dc9353d26c9"
      },
      "source": [
        "print('Hello, Python!') # test test "
      ],
      "execution_count": null,
      "outputs": [
        {
          "output_type": "stream",
          "text": [
            "Hello, Python!\n"
          ],
          "name": "stdout"
        }
      ]
    },
    {
      "cell_type": "markdown",
      "metadata": {
        "id": "LpQiH_ooegjX"
      },
      "source": [
        "# **What is a function in Python?**\r\n",
        "In Python, a function is a group of related statements that performs a specific task. Functions help break our program into smaller and modular chunks. As our program grows larger and larger, functions make it more organized and manageable. Furthermore, it avoids repetition and makes the code reusable.\r\n",
        "**You can think of functions as lego pieces used to built different lego toys they can be used in multiple toys ( car, house, etc.)**\r\n",
        "\r\n"
      ]
    },
    {
      "cell_type": "markdown",
      "metadata": {
        "id": "gTKIA_K0gQqs"
      },
      "source": [
        "# **Abstraction:**\r\n",
        "The concept of abstraction is crucial in computer science and for problem\r\n",
        "solving in general. Abstraction allows us to bundle together some related\r\n",
        "things and give a name to the bundle. Once that bundle is named, we can\r\n",
        "refer to it and, at times, ignore the details within the bundle. This is the only way to solve complex problems"
      ]
    },
    {
      "cell_type": "code",
      "metadata": {
        "colab": {
          "base_uri": "https://localhost:8080/"
        },
        "id": "RbNYO8040nfK",
        "outputId": "136e0abc-614b-47b1-90f4-cde306df7d27"
      },
      "source": [
        "# There are many useful modules available in Python’s standard library that are only an import away\r\n",
        "\r\n",
        "import sys  \r\n",
        "print(sys.version) \r\n"
      ],
      "execution_count": null,
      "outputs": [
        {
          "output_type": "stream",
          "text": [
            "3.7.10 (default, Feb 20 2021, 21:17:23) \n",
            "[GCC 7.5.0]\n"
          ],
          "name": "stdout"
        }
      ]
    },
    {
      "cell_type": "code",
      "metadata": {
        "colab": {
          "base_uri": "https://localhost:8080/"
        },
        "id": "KH-X6bErzLkV",
        "outputId": "7faf8714-2815-49d7-9290-03465b745721"
      },
      "source": [
        "#list of reserved keywords in python these can not be used as variable names\r\n",
        "\r\n",
        "import keyword\r\n",
        "keyword.kwlist\r\n"
      ],
      "execution_count": null,
      "outputs": [
        {
          "output_type": "execute_result",
          "data": {
            "text/plain": [
              "['False',\n",
              " 'None',\n",
              " 'True',\n",
              " 'and',\n",
              " 'as',\n",
              " 'assert',\n",
              " 'async',\n",
              " 'await',\n",
              " 'break',\n",
              " 'class',\n",
              " 'continue',\n",
              " 'def',\n",
              " 'del',\n",
              " 'elif',\n",
              " 'else',\n",
              " 'except',\n",
              " 'finally',\n",
              " 'for',\n",
              " 'from',\n",
              " 'global',\n",
              " 'if',\n",
              " 'import',\n",
              " 'in',\n",
              " 'is',\n",
              " 'lambda',\n",
              " 'nonlocal',\n",
              " 'not',\n",
              " 'or',\n",
              " 'pass',\n",
              " 'raise',\n",
              " 'return',\n",
              " 'try',\n",
              " 'while',\n",
              " 'with',\n",
              " 'yield']"
            ]
          },
          "metadata": {
            "tags": []
          },
          "execution_count": 2
        }
      ]
    },
    {
      "cell_type": "code",
      "metadata": {
        "colab": {
          "base_uri": "https://localhost:8080/"
        },
        "id": "3dyq9KLXR4FK",
        "outputId": "721bd893-4aa0-45ef-aaad-fb54b653f946"
      },
      "source": [
        "# How many keywords ?\r\n",
        "len(keyword.kwlist)"
      ],
      "execution_count": null,
      "outputs": [
        {
          "output_type": "execute_result",
          "data": {
            "text/plain": [
              "35"
            ]
          },
          "metadata": {
            "tags": []
          },
          "execution_count": 20
        }
      ]
    },
    {
      "cell_type": "code",
      "metadata": {
        "colab": {
          "base_uri": "https://localhost:8080/"
        },
        "id": "ZdNqxAw6Xb0w",
        "outputId": "6e328365-dc97-40e1-850f-ff9a660de1a9"
      },
      "source": [
        "'''\r\n",
        "Type help() for interactive help, or help(object) for help about object.\r\n",
        "interactive help enter q to exit \r\n",
        "'''\r\n",
        "help() "
      ],
      "execution_count": null,
      "outputs": [
        {
          "output_type": "stream",
          "text": [
            "\n",
            "Welcome to Python 3.7's help utility!\n",
            "\n",
            "If this is your first time using Python, you should definitely check out\n",
            "the tutorial on the Internet at https://docs.python.org/3.7/tutorial/.\n",
            "\n",
            "Enter the name of any module, keyword, or topic to get help on writing\n",
            "Python programs and using Python modules.  To quit this help utility and\n",
            "return to the interpreter, just type \"quit\".\n",
            "\n",
            "To get a list of available modules, keywords, symbols, or topics, type\n",
            "\"modules\", \"keywords\", \"symbols\", or \"topics\".  Each module also comes\n",
            "with a one-line summary of what it does; to list the modules whose name\n",
            "or summary contain a given string such as \"spam\", type \"modules spam\".\n",
            "\n",
            "help> q\n",
            "\n",
            "You are now leaving help and returning to the Python interpreter.\n",
            "If you want to ask for help on a particular object directly from the\n",
            "interpreter, you can type \"help(object)\".  Executing \"help('string')\"\n",
            "has the same effect as typing a particular string at the help> prompt.\n"
          ],
          "name": "stdout"
        }
      ]
    },
    {
      "cell_type": "code",
      "metadata": {
        "colab": {
          "base_uri": "https://localhost:8080/"
        },
        "id": "9DfJzRlAPdMm",
        "outputId": "960c241b-45ad-4a03-a63a-dbdadcc506fd"
      },
      "source": [
        "#using the help function :\r\n",
        "help(\"keywords\")"
      ],
      "execution_count": null,
      "outputs": [
        {
          "output_type": "stream",
          "text": [
            "\n",
            "Here is a list of the Python keywords.  Enter any keyword to get more help.\n",
            "\n",
            "False               class               from                or\n",
            "None                continue            global              pass\n",
            "True                def                 if                  raise\n",
            "and                 del                 import              return\n",
            "as                  elif                in                  try\n",
            "assert              else                is                  while\n",
            "async               except              lambda              with\n",
            "await               finally             nonlocal            yield\n",
            "break               for                 not                 \n",
            "\n"
          ],
          "name": "stdout"
        }
      ]
    },
    {
      "cell_type": "code",
      "metadata": {
        "colab": {
          "base_uri": "https://localhost:8080/"
        },
        "id": "xkaiIcZ3PpHW",
        "outputId": "76f03e17-590f-4920-cd26-966ea8b30702"
      },
      "source": [
        "help(\"or\")"
      ],
      "execution_count": null,
      "outputs": [
        {
          "output_type": "stream",
          "text": [
            "Boolean operations\n",
            "******************\n",
            "\n",
            "   or_test  ::= and_test | or_test \"or\" and_test\n",
            "   and_test ::= not_test | and_test \"and\" not_test\n",
            "   not_test ::= comparison | \"not\" not_test\n",
            "\n",
            "In the context of Boolean operations, and also when expressions are\n",
            "used by control flow statements, the following values are interpreted\n",
            "as false: \"False\", \"None\", numeric zero of all types, and empty\n",
            "strings and containers (including strings, tuples, lists,\n",
            "dictionaries, sets and frozensets).  All other values are interpreted\n",
            "as true.  User-defined objects can customize their truth value by\n",
            "providing a \"__bool__()\" method.\n",
            "\n",
            "The operator \"not\" yields \"True\" if its argument is false, \"False\"\n",
            "otherwise.\n",
            "\n",
            "The expression \"x and y\" first evaluates *x*; if *x* is false, its\n",
            "value is returned; otherwise, *y* is evaluated and the resulting value\n",
            "is returned.\n",
            "\n",
            "The expression \"x or y\" first evaluates *x*; if *x* is true, its value\n",
            "is returned; otherwise, *y* is evaluated and the resulting value is\n",
            "returned.\n",
            "\n",
            "Note that neither \"and\" nor \"or\" restrict the value and type they\n",
            "return to \"False\" and \"True\", but rather return the last evaluated\n",
            "argument.  This is sometimes useful, e.g., if \"s\" is a string that\n",
            "should be replaced by a default value if it is empty, the expression\n",
            "\"s or 'foo'\" yields the desired value.  Because \"not\" has to create a\n",
            "new value, it returns a boolean value regardless of the type of its\n",
            "argument (for example, \"not 'foo'\" produces \"False\" rather than \"''\".)\n",
            "\n",
            "Related help topics: EXPRESSIONS, TRUTHVALUE\n",
            "\n"
          ],
          "name": "stdout"
        }
      ]
    },
    {
      "cell_type": "markdown",
      "metadata": {
        "id": "fjm6MId0a0-b"
      },
      "source": [
        "# **Interpreted vs Compiled Programming Languages: What is different?**\r\n",
        "Imagine you have a cooking recipe that you want to make, but it's written in German. There are two ways to follow the recipe:\r\n",
        "\r\n",
        "The first is if someone had already translated it into English for you. You (and anyone else who can speak English) could read the English version of the recipe. Think of this translated recipe as the compiled version.\r\n",
        "\r\n",
        "The second way is if you have a friend who knows German. When you're ready your friend sits next to you and translates the recipe into English as you go, line by line. In this case, your friend is the interpreter for the interpreted version of the recipe."
      ]
    },
    {
      "cell_type": "code",
      "metadata": {
        "id": "QaSJ1ve-bnPG"
      },
      "source": [
        ""
      ],
      "execution_count": null,
      "outputs": []
    },
    {
      "cell_type": "markdown",
      "metadata": {
        "id": "7a4f6WAeozwO"
      },
      "source": [
        "## **Syntax error example:**"
      ]
    },
    {
      "cell_type": "code",
      "metadata": {
        "colab": {
          "base_uri": "https://localhost:8080/",
          "height": 162
        },
        "id": "sKfCSYyJpO5q",
        "outputId": "ee457e2b-e2dd-49be-d0eb-aa81c90a2159"
      },
      "source": [
        "frint(\"this is a syntax error\")"
      ],
      "execution_count": null,
      "outputs": [
        {
          "output_type": "error",
          "ename": "NameError",
          "evalue": "ignored",
          "traceback": [
            "\u001b[0;31m---------------------------------------------------------------------------\u001b[0m",
            "\u001b[0;31mNameError\u001b[0m                                 Traceback (most recent call last)",
            "\u001b[0;32m<ipython-input-15-6f603f314dc5>\u001b[0m in \u001b[0;36m<module>\u001b[0;34m()\u001b[0m\n\u001b[0;32m----> 1\u001b[0;31m \u001b[0mfrint\u001b[0m\u001b[0;34m(\u001b[0m\u001b[0;34m\"this is a syntax error\"\u001b[0m\u001b[0;34m)\u001b[0m\u001b[0;34m\u001b[0m\u001b[0;34m\u001b[0m\u001b[0m\n\u001b[0m",
            "\u001b[0;31mNameError\u001b[0m: name 'frint' is not defined"
          ]
        }
      ]
    },
    {
      "cell_type": "code",
      "metadata": {
        "colab": {
          "base_uri": "https://localhost:8080/",
          "height": 229
        },
        "id": "cM6mRTFUqtOm",
        "outputId": "5d917dfe-edbe-4055-bfdd-592a3b3a862c"
      },
      "source": [
        "# Print string and error to see the running order --> What will happen when we run this code?\r\n",
        "\r\n",
        "print(\"This will be printed\")\r\n",
        "frint(\"This will cause an error\")\r\n",
        "print(\"This will NOT be printed\")"
      ],
      "execution_count": null,
      "outputs": [
        {
          "output_type": "stream",
          "text": [
            "This will be printed\n"
          ],
          "name": "stdout"
        },
        {
          "output_type": "error",
          "ename": "NameError",
          "evalue": "ignored",
          "traceback": [
            "\u001b[0;31m---------------------------------------------------------------------------\u001b[0m",
            "\u001b[0;31mNameError\u001b[0m                                 Traceback (most recent call last)",
            "\u001b[0;32m<ipython-input-16-452608c21b50>\u001b[0m in \u001b[0;36m<module>\u001b[0;34m()\u001b[0m\n\u001b[1;32m      2\u001b[0m \u001b[0;34m\u001b[0m\u001b[0m\n\u001b[1;32m      3\u001b[0m \u001b[0mprint\u001b[0m\u001b[0;34m(\u001b[0m\u001b[0;34m\"This will be printed\"\u001b[0m\u001b[0;34m)\u001b[0m\u001b[0;34m\u001b[0m\u001b[0;34m\u001b[0m\u001b[0m\n\u001b[0;32m----> 4\u001b[0;31m \u001b[0mfrint\u001b[0m\u001b[0;34m(\u001b[0m\u001b[0;34m\"This will cause an error\"\u001b[0m\u001b[0;34m)\u001b[0m\u001b[0;34m\u001b[0m\u001b[0;34m\u001b[0m\u001b[0m\n\u001b[0m\u001b[1;32m      5\u001b[0m \u001b[0mprint\u001b[0m\u001b[0;34m(\u001b[0m\u001b[0;34m\"This will NOT be printed\"\u001b[0m\u001b[0;34m)\u001b[0m\u001b[0;34m\u001b[0m\u001b[0;34m\u001b[0m\u001b[0m\n",
            "\u001b[0;31mNameError\u001b[0m: name 'frint' is not defined"
          ]
        }
      ]
    },
    {
      "cell_type": "markdown",
      "metadata": {
        "id": "_ms3gtlXwjG_"
      },
      "source": [
        "# **Everything in Python is an Object;** Objects are Python’s abstraction for data. All data in a Python program is represented by objects or by relations between objects. "
      ]
    },
    {
      "cell_type": "markdown",
      "metadata": {
        "id": "Y0MZwy7Gy24U"
      },
      "source": [
        "## **The type() function** in Python returns the data type of the object passed to it as an argument. "
      ]
    },
    {
      "cell_type": "code",
      "metadata": {
        "colab": {
          "base_uri": "https://localhost:8080/"
        },
        "id": "cXRXWqIbw_Ur",
        "outputId": "9941dfba-820a-41f2-c326-ab33271800be"
      },
      "source": [
        "type(None) "
      ],
      "execution_count": null,
      "outputs": [
        {
          "output_type": "execute_result",
          "data": {
            "text/plain": [
              "NoneType"
            ]
          },
          "metadata": {
            "tags": []
          },
          "execution_count": 18
        }
      ]
    },
    {
      "cell_type": "code",
      "metadata": {
        "colab": {
          "base_uri": "https://localhost:8080/"
        },
        "id": "Kg-uJEvDy_7G",
        "outputId": "8bd48605-383a-4b99-ddee-809e2d708606"
      },
      "source": [
        "type(True)"
      ],
      "execution_count": null,
      "outputs": [
        {
          "output_type": "execute_result",
          "data": {
            "text/plain": [
              "bool"
            ]
          },
          "metadata": {
            "tags": []
          },
          "execution_count": 19
        }
      ]
    },
    {
      "cell_type": "code",
      "metadata": {
        "colab": {
          "base_uri": "https://localhost:8080/"
        },
        "id": "dwYhtvyPzBqm",
        "outputId": "7cf30c0a-51cb-4313-9198-610ce328680c"
      },
      "source": [
        "type(\"hello\")"
      ],
      "execution_count": null,
      "outputs": [
        {
          "output_type": "execute_result",
          "data": {
            "text/plain": [
              "str"
            ]
          },
          "metadata": {
            "tags": []
          },
          "execution_count": 20
        }
      ]
    },
    {
      "cell_type": "code",
      "metadata": {
        "colab": {
          "base_uri": "https://localhost:8080/"
        },
        "id": "JMGpuyoqzS3v",
        "outputId": "b065d4d5-4059-4c37-cc51-cc5c023fb5ca"
      },
      "source": [
        "type(2)"
      ],
      "execution_count": null,
      "outputs": [
        {
          "output_type": "execute_result",
          "data": {
            "text/plain": [
              "int"
            ]
          },
          "metadata": {
            "tags": []
          },
          "execution_count": 21
        }
      ]
    },
    {
      "cell_type": "markdown",
      "metadata": {
        "id": "0c4PpTYoELU1"
      },
      "source": [
        "## **Functional Programming vs Object Oriented Programming (FP VS OOP)**\r\n",
        " #\tHere are some basic differences:\r\n",
        "\r\n",
        "*   Functional programming emphasizes an evaluation of functions.\r\n",
        "*   Object-oriented programming based on a concept of objects.\r\n",
        "\r\n",
        "*   Functional programming uses immutable data.\r\n",
        "*   Object-oriented uses the mutable data.\r\n",
        "\r\n",
        "Python is an Object Orieted language \r\n",
        "R and Clojure are examples of Functional Programming languages\r\n",
        "\r\n",
        "\r\n",
        "  "
      ]
    },
    {
      "cell_type": "markdown",
      "metadata": {
        "id": "XbOq1q0YGouO"
      },
      "source": [
        "<a align=\"center\">\r\n",
        "    <img src=\"https://s3-api.us-geo.objectstorage.softlayer.net/cf-courses-data/CognitiveClass/PY0101EN/Chapter%201/Images/TypesObjects.png\" width=\"600\">\r\n",
        "</a>"
      ]
    },
    {
      "cell_type": "code",
      "metadata": {
        "id": "J0pMm5LkGprR"
      },
      "source": [
        "#integer\r\n",
        "1\r\n",
        "\r\n",
        "#float\r\n",
        "3.2\r\n",
        "\r\n",
        "#string\r\n",
        "\"hello\""
      ],
      "execution_count": null,
      "outputs": []
    },
    {
      "cell_type": "code",
      "metadata": {
        "id": "b8zf6u3FG8CV"
      },
      "source": [
        "type(2.3)"
      ],
      "execution_count": null,
      "outputs": []
    },
    {
      "cell_type": "code",
      "metadata": {
        "id": "FZ3V9VmcG-Aq"
      },
      "source": [
        "type(2.00)"
      ],
      "execution_count": null,
      "outputs": []
    },
    {
      "cell_type": "code",
      "metadata": {
        "colab": {
          "base_uri": "https://localhost:8080/"
        },
        "id": "sexvfCbYHkn2",
        "outputId": "476ccfe7-55a9-4a04-dd0f-a0b693449be8"
      },
      "source": [
        "type('2')"
      ],
      "execution_count": null,
      "outputs": [
        {
          "output_type": "execute_result",
          "data": {
            "text/plain": [
              "str"
            ]
          },
          "metadata": {
            "tags": []
          },
          "execution_count": 22
        }
      ]
    },
    {
      "cell_type": "markdown",
      "metadata": {
        "id": "ScTo149rNidR"
      },
      "source": [
        "### **Explicit type conversion examples:**"
      ]
    },
    {
      "cell_type": "code",
      "metadata": {
        "colab": {
          "base_uri": "https://localhost:8080/"
        },
        "id": "dOSG-Sj0HCxc",
        "outputId": "41069358-cd17-4ace-a8d3-cc8266e5a53f"
      },
      "source": [
        "type(float('2'))"
      ],
      "execution_count": null,
      "outputs": [
        {
          "output_type": "execute_result",
          "data": {
            "text/plain": [
              "float"
            ]
          },
          "metadata": {
            "tags": []
          },
          "execution_count": 23
        }
      ]
    },
    {
      "cell_type": "code",
      "metadata": {
        "colab": {
          "base_uri": "https://localhost:8080/"
        },
        "id": "bYea6pOOIB5B",
        "outputId": "e2a624b4-198b-4b3b-cf46-bc79d3e1c0d2"
      },
      "source": [
        "type(float(2))"
      ],
      "execution_count": null,
      "outputs": [
        {
          "output_type": "execute_result",
          "data": {
            "text/plain": [
              "float"
            ]
          },
          "metadata": {
            "tags": []
          },
          "execution_count": 24
        }
      ]
    },
    {
      "cell_type": "markdown",
      "metadata": {
        "id": "6M7DJHAFQKHq"
      },
      "source": [
        "## **Nested function call example:**"
      ]
    },
    {
      "cell_type": "code",
      "metadata": {
        "colab": {
          "base_uri": "https://localhost:8080/"
        },
        "id": "vMUQnfOHQTJq",
        "outputId": "ce14ddd8-81ca-439b-8108-ee45106970d5"
      },
      "source": [
        "type(int(float('2.3')))"
      ],
      "execution_count": null,
      "outputs": [
        {
          "output_type": "execute_result",
          "data": {
            "text/plain": [
              "int"
            ]
          },
          "metadata": {
            "tags": []
          },
          "execution_count": 44
        }
      ]
    },
    {
      "cell_type": "markdown",
      "metadata": {
        "id": "tetWFAGyI7QU"
      },
      "source": [
        "# **Python is a dynamically typed language.** That means it is not necessary to declare the type of a variable when assigning a value to it. For instance, you do not need to declare the data type of object major as string when you initialise the object with a string value of 'Tom'. In a statically typed language like Java , you must declare the data type of an object before assigning a value to it."
      ]
    },
    {
      "cell_type": "markdown",
      "metadata": {
        "id": "HObVJ3ZYMWRf"
      },
      "source": [
        "# **Implicit Type Conversion**\r\n",
        "In Implicit type conversion, Python automatically converts one data type to another data type. This process doesn't need any user involvement.\r\n",
        "Let's see an example where Python promotes the conversion of the lower data type (integer) to the higher data type (float) to avoid data loss.\r\n",
        "\r\n",
        "**Note:** that string is considered a higher data type\r\n",
        "\r\n",
        "**Caution:** data loss is key in pythons behavior"
      ]
    },
    {
      "cell_type": "code",
      "metadata": {
        "id": "zb5PJXvZJbqo"
      },
      "source": [
        "# implicit conversion example\r\n",
        "a=2+3.2\r\n",
        "type(a)"
      ],
      "execution_count": null,
      "outputs": []
    },
    {
      "cell_type": "code",
      "metadata": {
        "colab": {
          "base_uri": "https://localhost:8080/",
          "height": 35
        },
        "id": "j-iS5Fx-OKN6",
        "outputId": "5a4db47e-9333-4e41-ba91-ea78e9e89a8f"
      },
      "source": [
        "str(1.1)"
      ],
      "execution_count": null,
      "outputs": [
        {
          "output_type": "execute_result",
          "data": {
            "application/vnd.google.colaboratory.intrinsic+json": {
              "type": "string"
            },
            "text/plain": [
              "'1.1'"
            ]
          },
          "metadata": {
            "tags": []
          },
          "execution_count": 38
        }
      ]
    },
    {
      "cell_type": "code",
      "metadata": {
        "colab": {
          "base_uri": "https://localhost:8080/"
        },
        "id": "-U5_bG7wOy1i",
        "outputId": "ec4bce62-2b7c-4315-e4bc-1a0b1887bc44"
      },
      "source": [
        "int(1.1)"
      ],
      "execution_count": null,
      "outputs": [
        {
          "output_type": "execute_result",
          "data": {
            "text/plain": [
              "1"
            ]
          },
          "metadata": {
            "tags": []
          },
          "execution_count": 39
        }
      ]
    },
    {
      "cell_type": "code",
      "metadata": {
        "colab": {
          "base_uri": "https://localhost:8080/",
          "height": 162
        },
        "id": "1RJY50NtO88Q",
        "outputId": "51584542-5da2-4252-a211-8de8c1255a44"
      },
      "source": [
        "int(\"1.1\")"
      ],
      "execution_count": null,
      "outputs": [
        {
          "output_type": "error",
          "ename": "ValueError",
          "evalue": "ignored",
          "traceback": [
            "\u001b[0;31m---------------------------------------------------------------------------\u001b[0m",
            "\u001b[0;31mValueError\u001b[0m                                Traceback (most recent call last)",
            "\u001b[0;32m<ipython-input-40-8c4c1f183c39>\u001b[0m in \u001b[0;36m<module>\u001b[0;34m()\u001b[0m\n\u001b[0;32m----> 1\u001b[0;31m \u001b[0mint\u001b[0m\u001b[0;34m(\u001b[0m\u001b[0;34m\"1.1\"\u001b[0m\u001b[0;34m)\u001b[0m\u001b[0;34m\u001b[0m\u001b[0;34m\u001b[0m\u001b[0m\n\u001b[0m",
            "\u001b[0;31mValueError\u001b[0m: invalid literal for int() with base 10: '1.1'"
          ]
        }
      ]
    },
    {
      "cell_type": "code",
      "metadata": {
        "colab": {
          "base_uri": "https://localhost:8080/"
        },
        "id": "-bIgcK9YPAlH",
        "outputId": "6757e574-dd05-4008-8d81-be0699dec5ff"
      },
      "source": [
        "int(\"1\")"
      ],
      "execution_count": null,
      "outputs": [
        {
          "output_type": "execute_result",
          "data": {
            "text/plain": [
              "1"
            ]
          },
          "metadata": {
            "tags": []
          },
          "execution_count": 41
        }
      ]
    },
    {
      "cell_type": "code",
      "metadata": {
        "colab": {
          "base_uri": "https://localhost:8080/"
        },
        "id": "S0aKoxzzPEZy",
        "outputId": "80d59e48-0ab8-490b-d154-b5f7b3c2bc06"
      },
      "source": [
        "float(\"1.1\")"
      ],
      "execution_count": null,
      "outputs": [
        {
          "output_type": "execute_result",
          "data": {
            "text/plain": [
              "1.1"
            ]
          },
          "metadata": {
            "tags": []
          },
          "execution_count": 42
        }
      ]
    }
  ]
}